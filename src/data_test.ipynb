{
 "cells": [
  {
   "cell_type": "code",
   "execution_count": null,
   "metadata": {
    "pycharm": {
     "name": "#%%\n"
    }
   },
   "outputs": [
    {
     "ename": "",
     "evalue": "",
     "output_type": "error",
     "traceback": [
      "\u001B[1;31mFailed to start the Kernel. \n",
      "\u001B[1;31mJupyter server crashed. Unable to connect. \n",
      "\u001B[1;31mError code from Jupyter: 1\n",
      "\u001B[1;31musage: jupyter.py [-h] [--version] [--config-dir] [--data-dir] [--runtime-dir]\n",
      "\u001B[1;31m                  [--paths] [--json] [--debug]\n",
      "\u001B[1;31m                  [subcommand]\n",
      "\u001B[1;31m\n",
      "\u001B[1;31mJupyter: Interactive Computing\n",
      "\u001B[1;31m\n",
      "\u001B[1;31mpositional arguments:\n",
      "\u001B[1;31m  subcommand     the subcommand to launch\n",
      "\u001B[1;31m\n",
      "\u001B[1;31moptions:\n",
      "\u001B[1;31m  -h, --help     show this help message and exit\n",
      "\u001B[1;31m  --version      show the versions of core jupyter packages and exit\n",
      "\u001B[1;31m  --config-dir   show Jupyter config dir\n",
      "\u001B[1;31m  --data-dir     show Jupyter data dir\n",
      "\u001B[1;31m  --runtime-dir  show Jupyter runtime dir\n",
      "\u001B[1;31m  --paths        show all Jupyter paths. Add --json for machine-readable\n",
      "\u001B[1;31m                 format.\n",
      "\u001B[1;31m  --json         output paths as machine-readable json\n",
      "\u001B[1;31m  --debug        output debug information about paths\n",
      "\u001B[1;31m\n",
      "\u001B[1;31mAvailable subcommands:\n",
      "\u001B[1;31m\n",
      "\u001B[1;31mJupyter command `jupyter-notebook` not found. \n",
      "\u001B[1;31mView Jupyter <a href='command:jupyter.viewOutput'>log</a> for further details."
     ]
    }
   ],
   "source": [
    "import pandas as pd\n",
    "\n",
    "DATA = \"data.json\"\n"
   ]
  },
  {
   "cell_type": "code",
   "execution_count": null,
   "metadata": {
    "pycharm": {
     "name": "#%%\n"
    }
   },
   "outputs": [
    {
     "ename": "",
     "evalue": "",
     "output_type": "error",
     "traceback": [
      "\u001B[1;31mFailed to start the Kernel. \n",
      "\u001B[1;31mJupyter server crashed. Unable to connect. \n",
      "\u001B[1;31mError code from Jupyter: 1\n",
      "\u001B[1;31musage: jupyter.py [-h] [--version] [--config-dir] [--data-dir] [--runtime-dir]\n",
      "\u001B[1;31m                  [--paths] [--json] [--debug]\n",
      "\u001B[1;31m                  [subcommand]\n",
      "\u001B[1;31m\n",
      "\u001B[1;31mJupyter: Interactive Computing\n",
      "\u001B[1;31m\n",
      "\u001B[1;31mpositional arguments:\n",
      "\u001B[1;31m  subcommand     the subcommand to launch\n",
      "\u001B[1;31m\n",
      "\u001B[1;31moptions:\n",
      "\u001B[1;31m  -h, --help     show this help message and exit\n",
      "\u001B[1;31m  --version      show the versions of core jupyter packages and exit\n",
      "\u001B[1;31m  --config-dir   show Jupyter config dir\n",
      "\u001B[1;31m  --data-dir     show Jupyter data dir\n",
      "\u001B[1;31m  --runtime-dir  show Jupyter runtime dir\n",
      "\u001B[1;31m  --paths        show all Jupyter paths. Add --json for machine-readable\n",
      "\u001B[1;31m                 format.\n",
      "\u001B[1;31m  --json         output paths as machine-readable json\n",
      "\u001B[1;31m  --debug        output debug information about paths\n",
      "\u001B[1;31m\n",
      "\u001B[1;31mAvailable subcommands:\n",
      "\u001B[1;31m\n",
      "\u001B[1;31mJupyter command `jupyter-notebook` not found. \n",
      "\u001B[1;31mView Jupyter <a href='command:jupyter.viewOutput'>log</a> for further details."
     ]
    }
   ],
   "source": [
    "df = pd.DataFrame.read_json(DATA)"
   ]
  }
 ],
 "metadata": {
  "kernelspec": {
   "display_name": "venv",
   "language": "python",
   "name": "python3"
  },
  "language_info": {
   "name": "python",
   "version": "3.10.9"
  },
  "orig_nbformat": 4,
  "vscode": {
   "interpreter": {
    "hash": "ae560fd34a4fc3919eebd18edeab7d215ad31a0fe5416c5fdc6862fac8e6c6cb"
   }
  }
 },
 "nbformat": 4,
 "nbformat_minor": 2
}